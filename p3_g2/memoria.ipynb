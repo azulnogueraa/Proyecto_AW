{
 "cells": [
  {
   "cell_type": "markdown",
   "metadata": {},
   "source": [
    "<div style=\"text-align: center;\">\n",
    "    <h1> <font style=\"bold\"> Aplicaciones Web </font></h1>\n",
    "    <h2><font style=\"bold\">Práctica 2: Arquitectura y prototipo funcional del proyecto </font></h2>\n",
    "    <h3><font style=\"bold\">Integrantes:</font></h3>\n",
    "</div>\n",
    "<div style=\"display: flex; justify-content: center;\">\n",
    "    <h4><ul>\n",
    "        <li>Noguera Azul</li>\n",
    "        <li>Gonzalez Rocio</li>\n",
    "        <li>Guledjian Patricio</li>\n",
    "        <li>Vincent Jasou</li>\n",
    "        <li>Gabriel Zamy</li>\n",
    "        </ul>\n",
    "    </h4>\n",
    "</div>"
   ]
  },
  {
   "cell_type": "markdown",
   "metadata": {},
   "source": [
    "# Memoria de la estructura del proyecto"
   ]
  },
  {
   "cell_type": "markdown",
   "metadata": {},
   "source": [
    "## 2. Listado de scripts para las vistas"
   ]
  },
  {
   "cell_type": "markdown",
   "metadata": {},
   "source": [
    "<span style=color:blue>index.php:</span> Pantalla principal de la web\n",
    "\n",
    "#### comun:\n",
    "- topBar.php : Cabecera de la web\n",
    "\n",
    "#### F1: Gestión de Roles: Estudiante, Profesor, Administrador\n",
    "- login.php : Pantalla de login\n",
    "- registro.php : Pantalla de registro\n",
    "- logout.php : Pantalla de logout\n",
    "\n",
    "#### F2: Gestión de Inscripciones y Matriculaciones\n",
    "- inscripcion.php : Pantalla de inscripción a un curso (se agrega el curso al carrito)\n",
    "- carrito.php : Pantalla de carrito de compras \n",
    "\n",
    "#### F3: Gestión de Búsqueda con Filtros\n",
    "- cursos.php : Pantalla de listado de cursos. A partir de ahí, podemos seleccionar el curso para acceder a la información que deseamos.\n",
    "  - trading.php : vista de el curso de trading \n",
    "  - blockchain.php : vista de el curso de blockchain\n",
    "  - cripto.php : vista de el curso de criptomonedas   \n",
    "  - marketing.php : vista de el curso de marketing\n",
    "    \n",
    "    (estos cuatros cursos son ejemplos para entender lo que queremos hacer despues con la base de datos.)\n",
    "- curso.php : vista para un curso en particular, va a reemplazar los 4 previos.\n",
    "\n",
    "#### F4: Panel de Administración\n",
    "- anadirCurso.php : Pantalla de añadir curso\n",
    "- editarCurso.php : Pantalla de editar curso\n",
    "- eliminarCurso.php : Pantalla de eliminar curso\n",
    "\n",
    "#### F5: Gestión de Comunicación: Estudiantes y Profesores\n",
    "- chat.php : Pantalla de chat"
   ]
  },
  {
   "cell_type": "markdown",
   "metadata": {},
   "source": [
    "## 3. Listado de scripts adicionales"
   ]
  },
  {
   "cell_type": "markdown",
   "metadata": {},
   "source": [
    "- boxCurso.php : vista de un curso que se utiliza en cursos.php\n",
    "- procesarRegistro.php : script que procesa el registro de un usuario. Para definir el rol de un usuario, hemos optado por el momento de utilizar el nombre de dominio del correo electrónico.\n",
    "- procesarLogin.php : script que procesa el login de un usuario\n",
    "- procesarInscripcion.php : script que procesa la inscripcion de un estudiante a un curso\n",
    "- createdb.sql : script para crear la base de datos\n",
    "- createuser.sql : script para crear el usuario de la base de datos\n",
    "- datos.sql : script con datos que se insertan a la base de datos para pruebas\n",
    "- tablas.sql : script que crea la estructura de las tablas de la base de datos\n",
    "- utils.php : script de conexion de la base de datos y de gestion de errores"
   ]
  },
  {
   "cell_type": "markdown",
   "metadata": {},
   "source": [
    "## 4. Estructura de la base de datos"
   ]
  },
  {
   "cell_type": "markdown",
   "metadata": {},
   "source": [
    "![Diagrama de la estructura de la base de datos](img/diagrama_estructura.png)"
   ]
  },
  {
   "cell_type": "markdown",
   "metadata": {},
   "source": [
    "La arquitectura de nuestra base de datos está meticulosamente diseñada para sustentar una plataforma educativa online que ofrece una experiencia integral tanto para estudiantes como para profesores. El diagrama adjunto proporciona una representación visual de las relaciones y los campos clave de la base de datos.\n",
    "\n",
    "La tabla `estudiante` almacena los datos esenciales del usuario, incluyendo un identificador único `id`, el `nombre_usuario`, `apellido`, `email`, y una `contraseña` segura. Esta tabla es fundamental para la gestión de cuentas y la personalización de la experiencia del usuario.\n",
    "\n",
    "Paralelamente, la tabla `profesor` captura información detallada de los educadores en la plataforma, como sus credenciales de acceso, `experiencia` profesional y especializaciones. El vínculo entre los cursos y los profesores se establece mediante un campo de clave foránea `profesor_id` que conecta con el identificador único del profesor.\n",
    "\n",
    "Los cursos se detallan en la tabla `curso`, que incluye un nombre descriptivo, `nombre_curso`, una `descripcion` extensa del contenido, `fecha_creacion`, `duracion` estimada, y un `nivel_dificultad` que clasifica el curso. Además, cada curso tiene asignado una `categoria`, `requisitos_previos` necesarios para el alumno y un `precio`, además de un estado (`estado_curso`) que indica si está activo, inactivo o en desarrollo.\n",
    "\n",
    "Para gestionar las inscripciones, disponemos de la tabla `Registrado`, que establece una relación entre los estudiantes y los cursos a los que se han inscrito, mediante los campos `u_id` y `curso_id`. Esta tabla es crucial para el seguimiento de las inscripciones activas y el acceso a los contenidos del curso.\n",
    "\n",
    "Por último, la tabla `comentarios` permite a los estudiantes y profesores interactuar y discutir dentro del contexto de un curso, facilitando el intercambio de conocimientos y opiniones. Registra el `u_id` y `curso_id` correspondiente, junto con la `fecha` del comentario y su `contenido`.\n"
   ]
  },
  {
   "cell_type": "markdown",
   "metadata": {},
   "source": [
    "## 5. Prototipo funcional del proyecto"
   ]
  },
  {
   "cell_type": "markdown",
   "metadata": {},
   "source": [
    "\n",
    "#### Usuarios previamente registrados:\n",
    "Profesores:\n",
    "\n",
    "![](img/profesores.png)\n",
    "\n",
    "\n",
    "Estudiantes: \n",
    "\n",
    "![](img/estudiantes.png)\n",
    "\n",
    "<!-- | nombre de usuario | apellido  | email                  | contraseña |\n",
    "|-------------------|-----------|------------------------|------------|\n",
    "| azul              | noguera   | azul@estudiante.com    | azul1      |\n",
    "| rocio             | gonzalez  | rocio@estudiante.com   | rocio1     |\n",
    "| patricio          | guledjian | patricio@estudiante.com| patricio1  |\n",
    "| gabriel           | zamy      | gabriel@estudiante.com | gabriel1   |\n",
    "| vincent           | jansou    | vincent@estudiante.com | vincent1   | -->\n",
    "\n",
    "\n",
    "Administrador:\n",
    "\n",
    "![](img/administradores.png)\n",
    "\n",
    "<!-- \n",
    "| nombre de usuario | apellido  | email                  | contraseña |\n",
    "|-------------------|-----------|------------------------|------------|\n",
    "| admin             | admin     | admin@admin.com        | admin1     | -->\n",
    "\n",
    "\n",
    "#### Cursos previamente registrados:\n",
    "\n",
    "![](img/cursos.png)\n",
    "\n",
    "<!-- \n",
    "| nombre_curso | descripcion | profesor_id | fecha_creacion | duracion | nivel_dificultad | categoria |requisitos_previos | precio | estado_curso |\n",
    "|--------------|-------------|-------------|----------------|----------|------------------|-----------|-------------------|--------|--------------|\n",
    "| Marketing    | descripcion | 6           | 2024-01-01     | 20h      | Intermedio       | Negocios  |                   | 60     | Activo       | -->\n"
   ]
  },
  {
   "cell_type": "markdown",
   "metadata": {},
   "source": [
    "<span style=color:blue> Es importante aclarar que para acceder a los usuarios y a los cursos preexistentes se deben importar todas los ficheros de la carpeta mysql en phpmyadmin. Pronto esto no hará falta con el VPS.</span>"
   ]
  }
 ],
 "metadata": {
  "language_info": {
   "name": "python"
  }
 },
 "nbformat": 4,
 "nbformat_minor": 2
}
